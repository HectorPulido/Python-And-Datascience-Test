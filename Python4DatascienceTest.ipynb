{
  "nbformat": 4,
  "nbformat_minor": 0,
  "metadata": {
    "colab": {
      "name": "Python4DatascienceTest.ipynb",
      "version": "0.3.2",
      "provenance": [],
      "collapsed_sections": [],
      "include_colab_link": true
    }
  },
  "cells": [
    {
      "cell_type": "markdown",
      "metadata": {
        "id": "view-in-github",
        "colab_type": "text"
      },
      "source": [
        "[View in Colaboratory](https://colab.research.google.com/github/HectorPulido/Python-And-Datascience-Test/blob/master/Python4DatascienceTest.ipynb)"
      ]
    },
    {
      "metadata": {
        "id": "0V48H_-7VPkm",
        "colab_type": "text"
      },
      "cell_type": "markdown",
      "source": [
        "# Datascience test in python\n",
        "this is a Sklearn test following the Siraj Raval youtube channel instructions\n"
      ]
    },
    {
      "metadata": {
        "id": "9tt2zSNbLfNT",
        "colab_type": "code",
        "colab": {}
      },
      "cell_type": "code",
      "source": [
        "##Dataset\n",
        "X = [[181, 80, 44], [177, 70, 43], [160, 60, 38], [154, 54, 37], [166, 65, 40],\n",
        "     [190, 90, 47], [175, 64, 39],\n",
        "     [177, 70, 40], [159, 55, 37], [171, 75, 42], [181, 85, 43]]\n",
        "\n",
        "Y = ['male', 'male', 'female', 'female', 'male', 'male', 'female', 'female',\n",
        "     'female', 'male', 'male']\n",
        "testX = [[190, 70, 43]]"
      ],
      "execution_count": 0,
      "outputs": []
    },
    {
      "metadata": {
        "id": "xHXVA1KILmcf",
        "colab_type": "code",
        "colab": {
          "base_uri": "https://localhost:8080/",
          "height": 34
        },
        "outputId": "2a861337-796f-4014-ce0d-e9738421e9c6"
      },
      "cell_type": "code",
      "source": [
        "##Decision tree\n",
        "from sklearn import tree\n",
        "clf = tree.DecisionTreeClassifier()\n",
        "clf = clf.fit(X,Y)\n",
        "prediction = clf.predict(testX)\n",
        "print prediction"
      ],
      "execution_count": 11,
      "outputs": [
        {
          "output_type": "stream",
          "text": [
            "['male']\n"
          ],
          "name": "stdout"
        }
      ]
    },
    {
      "metadata": {
        "id": "JVuf5xdoLu6K",
        "colab_type": "code",
        "colab": {
          "base_uri": "https://localhost:8080/",
          "height": 34
        },
        "outputId": "225b2dcb-30cd-411d-88c3-b1e85859c311"
      },
      "cell_type": "code",
      "source": [
        "##Support vector machine\n",
        "from sklearn import svm\n",
        "clfsvm = svm.SVC()\n",
        "clfsvm = clfsvm.fit(X, Y)\n",
        "prediction = clfsvm.predict(testX)\n",
        "print prediction"
      ],
      "execution_count": 14,
      "outputs": [
        {
          "output_type": "stream",
          "text": [
            "['male']\n"
          ],
          "name": "stdout"
        }
      ]
    },
    {
      "metadata": {
        "id": "4BqdygFdMBwt",
        "colab_type": "code",
        "colab": {
          "base_uri": "https://localhost:8080/",
          "height": 88
        },
        "outputId": "38c29519-5c84-41cd-9258-8c59591b32ca"
      },
      "cell_type": "code",
      "source": [
        "##Stochastic gradient descend\n",
        "from sklearn.linear_model import SGDClassifier\n",
        "clfsgd = SGDClassifier(loss = \"hinge\", penalty = \"l2\")\n",
        "clfsgd = clfsgd.fit(X, Y)\n",
        "prediction = clfsgd.predict(testX)\n",
        "print prediction"
      ],
      "execution_count": 15,
      "outputs": [
        {
          "output_type": "stream",
          "text": [
            "['male']\n"
          ],
          "name": "stdout"
        },
        {
          "output_type": "stream",
          "text": [
            "/usr/local/lib/python2.7/dist-packages/sklearn/linear_model/stochastic_gradient.py:128: FutureWarning: max_iter and tol parameters have been added in <class 'sklearn.linear_model.stochastic_gradient.SGDClassifier'> in 0.19. If both are left unset, they default to max_iter=5 and tol=None. If tol is not None, max_iter defaults to max_iter=1000. From 0.21, default max_iter will be 1000, and default tol will be 1e-3.\n",
            "  \"and default tol will be 1e-3.\" % type(self), FutureWarning)\n"
          ],
          "name": "stderr"
        }
      ]
    },
    {
      "metadata": {
        "id": "axafIWc5O4YP",
        "colab_type": "code",
        "colab": {
          "base_uri": "https://localhost:8080/",
          "height": 34
        },
        "outputId": "8464319d-d63c-4e30-9110-8f2f355d0f6e"
      },
      "cell_type": "code",
      "source": [
        "##Multi layer perceptron classifier\n",
        "from sklearn.neural_network import MLPClassifier \n",
        "clfnn = MLPClassifier(solver='lbfgs', alpha=1e-5, hidden_layer_sizes=(4), random_state=1)\n",
        "clfnn = clfnn.fit(X, Y)\n",
        "prediction = clfnn.predict(testX)\n",
        "print prediction"
      ],
      "execution_count": 51,
      "outputs": [
        {
          "output_type": "stream",
          "text": [
            "['male']\n"
          ],
          "name": "stdout"
        }
      ]
    },
    {
      "metadata": {
        "id": "yRq-96bfSKQa",
        "colab_type": "code",
        "colab": {
          "base_uri": "https://localhost:8080/",
          "height": 34
        },
        "outputId": "849dd1ce-bbe7-4c4b-8c55-22f44a8b852c"
      },
      "cell_type": "code",
      "source": [
        "##Random forest\n",
        "from sklearn.ensemble import RandomForestClassifier\n",
        "clfrf = RandomForestClassifier(max_depth= 2, random_state= 0)\n",
        "clfrf = clfrf.fit(X, Y)\n",
        "prediction = clfrf.predict(testX)\n",
        "print prediction"
      ],
      "execution_count": 55,
      "outputs": [
        {
          "output_type": "stream",
          "text": [
            "['male']\n"
          ],
          "name": "stdout"
        }
      ]
    },
    {
      "metadata": {
        "id": "1nhKldfET7E6",
        "colab_type": "code",
        "colab": {
          "base_uri": "https://localhost:8080/",
          "height": 102
        },
        "outputId": "642f0543-13a1-41cf-e71a-02af60779d67"
      },
      "cell_type": "code",
      "source": [
        "#@title Predict\n",
        "\n",
        "Param1 = 109.6 #@param {type:\"slider\", min: 50, max: 200, step:0.1}\n",
        "Param2 = 162.2 #@param {type:\"slider\", min: 50, max: 200, step:0.1}\n",
        "Param3 = 169.1 #@param {type:\"slider\", min: 50, max: 200, step:0.1}\n",
        "\n",
        "\n",
        "print \"Decision tree: \", clfrf.predict([[Param1, Param2, Param3]])\n",
        "print \"Support Vector Machine: \", clfsvm.predict([[Param1, Param2, Param3]])\n",
        "print \"Stochastic gradient descend: \", clfsgd.predict([[Param1, Param2, Param3]])\n",
        "print \"Multi layer perceptron classifier: \", clfnn.predict([[Param1, Param2, Param3]])\n",
        "print \"Random forest: \", clfrf.predict([[Param1, Param2, Param3]])"
      ],
      "execution_count": 64,
      "outputs": [
        {
          "output_type": "stream",
          "text": [
            "Decision tree:  ['male']\n",
            "Support Vector Machine:  ['male']\n",
            "Stochastic gradient descend:  ['male']\n",
            "Multi layer perceptron classifier:  ['male']\n",
            "Random forest:  ['male']\n"
          ],
          "name": "stdout"
        }
      ]
    }
  ]
}