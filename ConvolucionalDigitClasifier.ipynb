{
  "nbformat": 4,
  "nbformat_minor": 0,
  "metadata": {
    "colab": {
      "name": "ConvolucionalDigitClasifier.ipynb",
      "version": "0.3.2",
      "provenance": [],
      "collapsed_sections": [],
      "include_colab_link": true
    },
    "kernelspec": {
      "name": "python2",
      "display_name": "Python 2"
    },
    "accelerator": "GPU"
  },
  "cells": [
    {
      "cell_type": "markdown",
      "metadata": {
        "id": "view-in-github",
        "colab_type": "text"
      },
      "source": [
        "[View in Colaboratory](https://colab.research.google.com/github/HectorPulido/Python-And-Datascience-Test/blob/master/ConvolucionalDigitClasifier.ipynb)"
      ]
    },
    {
      "metadata": {
        "id": "zR6vIdYfLExI",
        "colab_type": "code",
        "colab": {}
      },
      "cell_type": "code",
      "source": [
        "import matplotlib.pyplot as plt\n",
        "import tensorflow as tf\n",
        "import numpy as np\n",
        "import time\n",
        "import math\n",
        "from datetime import timedelta\n",
        "from sklearn.metrics import confusion_matrix"
      ],
      "execution_count": 0,
      "outputs": []
    },
    {
      "metadata": {
        "id": "wezPuJDLLPFb",
        "colab_type": "code",
        "colab": {
          "base_uri": "https://localhost:8080/",
          "height": 85
        },
        "outputId": "ca277a9a-d9b2-4d60-e4f2-9b142bcb4c12"
      },
      "cell_type": "code",
      "source": [
        "from  tensorflow.examples.tutorials.mnist import input_data\n",
        "data = input_data.read_data_sets('data/MNIST/', one_hot=True)\n",
        "\n",
        "data.test.cls = np.argmax(data.test.labels, axis=1)"
      ],
      "execution_count": 3,
      "outputs": [
        {
          "output_type": "stream",
          "text": [
            "Extracting data/MNIST/train-images-idx3-ubyte.gz\n",
            "Extracting data/MNIST/train-labels-idx1-ubyte.gz\n",
            "Extracting data/MNIST/t10k-images-idx3-ubyte.gz\n",
            "Extracting data/MNIST/t10k-labels-idx1-ubyte.gz\n"
          ],
          "name": "stdout"
        }
      ]
    },
    {
      "metadata": {
        "id": "tvpn6K48L4Z6",
        "colab_type": "code",
        "colab": {}
      },
      "cell_type": "code",
      "source": [
        "#Hyper parameters\n",
        "\n",
        "# Convolutional Layer 1.\n",
        "filter_size1 = 5          # Convolution filters are 5 x 5 pixels.\n",
        "num_filters1 = 16         # There are 16 of these filters.\n",
        "\n",
        "# Convolutional Layer 2.\n",
        "filter_size2 = 5          # Convolution filters are 5 x 5 pixels.\n",
        "num_filters2 = 36         # There are 36 of these filters.\n",
        "\n",
        "# Fully-connected layer.\n",
        "fc_size = 128             # Number of neurons in fully-connected layer.\n",
        "\n",
        "# We know that MNIST images are 28 pixels in each dimension.\n",
        "img_size = 28\n",
        "\n",
        "# Images are stored in one-dimensional arrays of this length.\n",
        "img_size_flat = img_size * img_size\n",
        "\n",
        "# Tuple with height and width of images used to reshape arrays.\n",
        "img_shape = (img_size, img_size)\n",
        "\n",
        "# Number of colour channels for the images: 1 channel for gray-scale.\n",
        "num_channels = 1\n",
        "\n",
        "# Number of classes, one class for each of 10 digits.\n",
        "num_classes = 10\n",
        "\n",
        "train_batch_size = 64\n",
        "learningRate = 1e-4"
      ],
      "execution_count": 0,
      "outputs": []
    },
    {
      "metadata": {
        "id": "yY-V9Q88MdaT",
        "colab_type": "code",
        "colab": {}
      },
      "cell_type": "code",
      "source": [
        "def plot_images(images, imgs_cls, predict_cls = None):\n",
        "  assert len(images) == len(imgs_cls)\n",
        "  \n",
        "  s = len(images)\n",
        "  \n",
        "  fig, axes = plt.subplots(s/4, 4)\n",
        "  fig.subplots_adjust(hspace = 0.5, wspace = 0.5)\n",
        "  \n",
        "  for i, ax in enumerate (axes.flat):\n",
        "    ax.imshow(images[i].reshape(img_shape), cmap = 'binary')\n",
        "    \n",
        "    if predict_cls is None:\n",
        "      xlabel = \"Class: {0}\".format(imgs_cls[i])\n",
        "    else:\n",
        "      t = imgs_cls[i] == predict_cls[i]\n",
        "      xlabel = \"Class: {0}, \\nPrediction: {1}, \\nThe predict was {2}\".format(imgs_cls[i], predict_cls[i], t)\n",
        "      \n",
        "    ax.set_xlabel(xlabel)\n",
        "    \n",
        "    ax.set_xticks([])\n",
        "    ax.set_yticks([])\n",
        "  plt.show()"
      ],
      "execution_count": 0,
      "outputs": []
    },
    {
      "metadata": {
        "id": "fk-tbTCGMqXk",
        "colab_type": "code",
        "colab": {
          "base_uri": "https://localhost:8080/",
          "height": 305
        },
        "outputId": "c15104cc-6071-4518-ac15-dcd695f88351"
      },
      "cell_type": "code",
      "source": [
        "plot_images(images = data.test.images[0:9], imgs_cls = data.test.cls[0:9])"
      ],
      "execution_count": 6,
      "outputs": [
        {
          "output_type": "display_data",
          "data": {
            "image/png": "[encoded data removed]",
            "text/plain": [
              "<matplotlib.figure.Figure at 0x7ff598dbc150>"
            ]
          },
          "metadata": {
            "tags": []
          }
        }
      ]
    },
    {
      "metadata": {
        "id": "GNyts6UoZe8q",
        "colab_type": "code",
        "colab": {}
      },
      "cell_type": "code",
      "source": [
        "def new_weights(shape):\n",
        "  return tf.Variable(tf.truncated_normal(shape, stddev = 0.05))"
      ],
      "execution_count": 0,
      "outputs": []
    },
    {
      "metadata": {
        "id": "x0C0UmXdZ1ph",
        "colab_type": "code",
        "colab": {}
      },
      "cell_type": "code",
      "source": [
        "def new_biases(length):\n",
        "  return tf.Variable(tf.constant(0.05, shape = [length] ))"
      ],
      "execution_count": 0,
      "outputs": []
    },
    {
      "metadata": {
        "id": "G9lCCiF_aBuw",
        "colab_type": "code",
        "colab": {}
      },
      "cell_type": "code",
      "source": [
        "def new_conv_layer(input, num_input_channels, filter_size, num_filters, use_pooling = True):\n",
        "  shape = [filter_size, filter_size, num_input_channels, num_filters]\n",
        "  weights = new_weights(shape = shape)\n",
        "  biases = new_biases(length = num_filters)\n",
        "  layer = tf.nn.conv2d(input = input, filter = weights, strides = [1,1,1,1], padding='SAME') \n",
        "  # CONVOLUCION\n",
        "  #STRIDES da informacion sobre el movimiento del filtro\n",
        "  layer += biases\n",
        "  if use_pooling:\n",
        "    layer = tf.nn.max_pool(value = layer, ksize = [1,2,2,1], strides = [1,2,2,1], padding = 'SAME')\n",
        "    #POOLING\n",
        "  layer = tf.nn.relu(layer)\n",
        "  \n",
        "  return layer, weights"
      ],
      "execution_count": 0,
      "outputs": []
    },
    {
      "metadata": {
        "id": "yIMLKklCbOPV",
        "colab_type": "code",
        "colab": {}
      },
      "cell_type": "code",
      "source": [
        "def flatten_layer(layer):\n",
        "  layer_shape = layer.get_shape()  \n",
        "  num_features = layer_shape[1:4].num_elements()\n",
        "  # layer_shape == [num_images, img_height, img_width, num_channels]\n",
        "  # The number of features is: img_height * img_width * num_channels\n",
        "  layer_flat = tf.reshape(layer, [-1, num_features])\n",
        "  \n",
        "  return layer_flat, num_features"
      ],
      "execution_count": 0,
      "outputs": []
    },
    {
      "metadata": {
        "id": "a8oGJ0lkeKuK",
        "colab_type": "code",
        "colab": {}
      },
      "cell_type": "code",
      "source": [
        "def new_fc_layer(input, num_inputs, num_outputs, use_relu = True):\n",
        "  weights = new_weights(shape=[num_inputs, num_outputs])\n",
        "  biases = new_biases(length = num_outputs)\n",
        "  \n",
        "  layer = tf.matmul(input, weights) + biases\n",
        "  \n",
        "  if(use_relu):\n",
        "    layer = tf.nn.relu(layer)\n",
        "    \n",
        "  return layer"
      ],
      "execution_count": 0,
      "outputs": []
    },
    {
      "metadata": {
        "id": "Z27YK_XzeqS_",
        "colab_type": "code",
        "colab": {}
      },
      "cell_type": "code",
      "source": [
        "#Tensors\n",
        "x = tf.placeholder(tf.float32, shape = [None, img_size_flat], name = 'x')\n",
        "x_image = tf.reshape(x, [-1, img_size, img_size, num_channels])\n",
        "y_true = tf.placeholder(tf.float32, shape=[None, num_classes], name = 'y_true')\n",
        "y_true_cls = tf.argmax(y_true, axis=1)"
      ],
      "execution_count": 0,
      "outputs": []
    },
    {
      "metadata": {
        "id": "H99E0rOme_6q",
        "colab_type": "code",
        "colab": {}
      },
      "cell_type": "code",
      "source": [
        "#hierarchical model\n",
        "layer_conv1, weights_conv1 = new_conv_layer(input = x_image, \n",
        "                                            num_input_channels = num_channels, \n",
        "                                            filter_size = filter_size1, \n",
        "                                            num_filters = num_filters1)\n",
        "\n",
        "layer_conv2, weights_conv2 = new_conv_layer(input = layer_conv1, \n",
        "                                            num_input_channels = num_filters1, \n",
        "                                            filter_size = filter_size2, \n",
        "                                            num_filters = num_filters2)\n",
        "\n",
        "layer_flat, num_features = flatten_layer(layer_conv2)\n",
        "\n",
        "layer_fc1 = new_fc_layer(input=layer_flat,\n",
        "                         num_inputs=num_features,\n",
        "                         num_outputs=fc_size)\n",
        "\n",
        "layer_fc2 = new_fc_layer(input=layer_fc1,\n",
        "                         num_inputs=fc_size,\n",
        "                         num_outputs=num_classes,\n",
        "                         use_relu=False)\n",
        "y_pred = tf.nn.softmax(layer_fc2)\n",
        "y_pred_cls = tf.argmax(y_pred, axis = 1)"
      ],
      "execution_count": 0,
      "outputs": []
    },
    {
      "metadata": {
        "id": "VfReG1NHjg-F",
        "colab_type": "code",
        "colab": {}
      },
      "cell_type": "code",
      "source": [
        "#Optimization\n",
        "cross_entropy = tf.nn.softmax_cross_entropy_with_logits_v2(logits = layer_fc2, \n",
        "                                                        labels = y_true)\n",
        "cost = tf.reduce_mean(cross_entropy)\n",
        "\n",
        "optimizer = tf.train.AdamOptimizer(learning_rate = learningRate).minimize(cost)\n",
        "correct_prediction = tf.equal(y_pred_cls , y_true_cls)\n",
        "accuracy = tf.reduce_mean(tf.cast(correct_prediction, tf.float32))"
      ],
      "execution_count": 0,
      "outputs": []
    },
    {
      "metadata": {
        "id": "_KFKOaEQji9k",
        "colab_type": "code",
        "colab": {}
      },
      "cell_type": "code",
      "source": [
        "#Session start\n",
        "session = tf.Session()\n",
        "session.run(tf.global_variables_initializer())"
      ],
      "execution_count": 0,
      "outputs": []
    },
    {
      "metadata": {
        "id": "RnXEpRmAj33z",
        "colab_type": "code",
        "colab": {}
      },
      "cell_type": "code",
      "source": [
        "total_iterations = 0\n",
        "\n",
        "def optimize(num_iterations):\n",
        "  global total_iterations\n",
        "  \n",
        "  start_time = time.time()\n",
        "  \n",
        "  for i in range (total_iterations, total_iterations + num_iterations):\n",
        "    x_batch, y_true_batch = data.train.next_batch(train_batch_size)\n",
        "    \n",
        "    feed_dict_train = {x: x_batch, y_true: y_true_batch}\n",
        "    \n",
        "    session.run(optimizer, feed_dict = feed_dict_train)\n",
        "    \n",
        "    if i % 100 == 0:\n",
        "      acc = session.run(accuracy, feed_dict = feed_dict_train)\n",
        "      print \"Optimization Iteration: {}, Training Accuracy: {}\".format(i+1, acc)\n",
        "      \n",
        "  total_iterations += num_iterations;\n",
        "\n",
        "  end_time = time.time()\n",
        "\n",
        "  time_dif = end_time - start_time\n",
        "\n",
        "  print \"Time usage: \" + str(timedelta(seconds = int(round(time_dif))))"
      ],
      "execution_count": 0,
      "outputs": []
    },
    {
      "metadata": {
        "id": "5Y6KyTgFmEYS",
        "colab_type": "code",
        "colab": {}
      },
      "cell_type": "code",
      "source": [
        "def print_confusion_matrix(cls_pred): \n",
        "  real_class = data.test.cls\n",
        "  cls_true = data.test.cls\n",
        "  \n",
        "  cm = confusion_matrix(y_true=cls_true,\n",
        "                          y_pred=cls_pred)\n",
        "\n",
        "  plt.imshow(cm, interpolation='nearest', cmap=plt.cm.Blues)\n",
        "  plt.tight_layout()\n",
        "  plt.colorbar()\n",
        "  tick_marks = np.arange(num_classes)\n",
        "  plt.xticks(tick_marks, range(num_classes))\n",
        "  plt.yticks(tick_marks, range(num_classes))\n",
        "  plt.xlabel('Predicted')\n",
        "  plt.ylabel('True')\n",
        "  plt.show()"
      ],
      "execution_count": 0,
      "outputs": []
    },
    {
      "metadata": {
        "id": "k4cWLjm1mNhx",
        "colab_type": "code",
        "colab": {}
      },
      "cell_type": "code",
      "source": [
        "def plot_example_errors (cls_pred, correct):\n",
        "    incorrect = (correct == False)\n",
        "    images = data.test.images[incorrect]\n",
        "    cls_pred = cls_pred[incorrect]\n",
        "    cls_true = data.test.cls[incorrect]\n",
        "\n",
        "    plot_images(images = images[0:9], imgs_cls = cls_true[0:9], predict_cls = cls_pred[0:9])"
      ],
      "execution_count": 0,
      "outputs": []
    },
    {
      "metadata": {
        "id": "U4V3Qx6knV_7",
        "colab_type": "code",
        "colab": {}
      },
      "cell_type": "code",
      "source": [
        "test_batch_size = 256\n",
        "\n",
        "def print_test_accuracy(show_example_errors=False,\n",
        "                        show_confusion_matrix=False):\n",
        "\n",
        "    num_test = len(data.test.images)\n",
        "\n",
        "    cls_pred = np.zeros(shape=num_test, dtype=np.int)\n",
        "    i = 0\n",
        "\n",
        "    while i < num_test:\n",
        "        j = min(i + test_batch_size, num_test)\n",
        "\n",
        "        images = data.test.images[i:j, :]\n",
        "\n",
        "        labels = data.test.labels[i:j, :]\n",
        "        feed_dict = {x: images,\n",
        "                     y_true: labels}\n",
        "\n",
        "        cls_pred[i:j] = session.run(y_pred_cls, feed_dict=feed_dict)\n",
        "\n",
        "        i = j\n",
        "\n",
        "    cls_true = data.test.cls\n",
        "\n",
        "    correct = (cls_true == cls_pred)\n",
        "\n",
        "    correct_sum = correct.sum()\n",
        "\n",
        "    acc = float(correct_sum) / num_test\n",
        "\n",
        "    msg = \"Accuracy on Test-Set: {0:.1%} ({1} / {2})\"\n",
        "    print(msg.format(acc, correct_sum, num_test))\n",
        "    \n",
        "    if show_example_errors:\n",
        "        print(\"Example errors:\")\n",
        "        plot_example_errors(cls_pred=cls_pred, correct=correct)\n",
        "\n",
        "    if show_confusion_matrix:\n",
        "        print(\"Confusion Matrix:\")\n",
        "        print_confusion_matrix(cls_pred=cls_pred)"
      ],
      "execution_count": 0,
      "outputs": []
    },
    {
      "metadata": {
        "id": "6IANd8tYnroc",
        "colab_type": "code",
        "colab": {
          "base_uri": "https://localhost:8080/",
          "height": 778
        },
        "outputId": "7040d1c2-e5e7-4376-8289-b3532f2e3708"
      },
      "cell_type": "code",
      "source": [
        "print_test_accuracy(True, True)"
      ],
      "execution_count": 20,
      "outputs": [
        {
          "output_type": "stream",
          "text": [
            "Accuracy on Test-Set: 9.1% (914 / 10000)\n",
            "Example errors:\n"
          ],
          "name": "stdout"
        },
        {
          "output_type": "display_data",
          "data": {
            "image/png": "[encoded data removed]",
            "text/plain": [
              "<matplotlib.figure.Figure at 0x7ff59631d990>"
            ]
          },
          "metadata": {
            "tags": []
          }
        },
        {
          "output_type": "stream",
          "text": [
            "Confusion Matrix:\n"
          ],
          "name": "stdout"
        },
        {
          "output_type": "display_data",
          "data": {
            "image/png": "[encoded data removed]",
            "text/plain": [
              "<matplotlib.figure.Figure at 0x7ff596239c50>"
            ]
          },
          "metadata": {
            "tags": []
          }
        }
      ]
    },
    {
      "metadata": {
        "id": "8o1i_EnuqVXH",
        "colab_type": "code",
        "colab": {
          "base_uri": "https://localhost:8080/",
          "height": 68
        },
        "outputId": "23849f6f-b491-4c6a-e718-621e34d8037e"
      },
      "cell_type": "code",
      "source": [
        "optimize(num_iterations=1)\n",
        "print_test_accuracy()"
      ],
      "execution_count": 21,
      "outputs": [
        {
          "output_type": "stream",
          "text": [
            "Optimization Iteration: 1, Training Accuracy: 0.125\n",
            "Time usage: 0:00:00\n",
            "Accuracy on Test-Set: 10.9% (1094 / 10000)\n"
          ],
          "name": "stdout"
        }
      ]
    },
    {
      "metadata": {
        "id": "u_oePLBCqfB1",
        "colab_type": "code",
        "colab": {
          "base_uri": "https://localhost:8080/",
          "height": 51
        },
        "outputId": "1e47f626-3c74-4103-9546-5d5777d09b90"
      },
      "cell_type": "code",
      "source": [
        "optimize(num_iterations=99)\n",
        "print_test_accuracy()"
      ],
      "execution_count": 22,
      "outputs": [
        {
          "output_type": "stream",
          "text": [
            "Time usage: 0:00:01\n",
            "Accuracy on Test-Set: 61.5% (6154 / 10000)\n"
          ],
          "name": "stdout"
        }
      ]
    },
    {
      "metadata": {
        "id": "aKImHnRxrRW3",
        "colab_type": "code",
        "colab": {
          "base_uri": "https://localhost:8080/",
          "height": 204
        },
        "outputId": "b4474fb9-b864-42a8-ff67-f4e8e6005486"
      },
      "cell_type": "code",
      "source": [
        "optimize(num_iterations=900)\n",
        "print_test_accuracy()"
      ],
      "execution_count": 23,
      "outputs": [
        {
          "output_type": "stream",
          "text": [
            "Optimization Iteration: 101, Training Accuracy: 0.53125\n",
            "Optimization Iteration: 201, Training Accuracy: 0.828125\n",
            "Optimization Iteration: 301, Training Accuracy: 0.875\n",
            "Optimization Iteration: 401, Training Accuracy: 0.921875\n",
            "Optimization Iteration: 501, Training Accuracy: 0.875\n",
            "Optimization Iteration: 601, Training Accuracy: 0.90625\n",
            "Optimization Iteration: 701, Training Accuracy: 0.84375\n",
            "Optimization Iteration: 801, Training Accuracy: 0.921875\n",
            "Optimization Iteration: 901, Training Accuracy: 0.859375\n",
            "Time usage: 0:00:05\n",
            "Accuracy on Test-Set: 93.8% (9380 / 10000)\n"
          ],
          "name": "stdout"
        }
      ]
    },
    {
      "metadata": {
        "id": "I4o54caTr5Lg",
        "colab_type": "code",
        "colab": {
          "base_uri": "https://localhost:8080/",
          "height": 2478
        },
        "outputId": "cfec0bb5-189a-476c-9d8e-dfa0241170aa"
      },
      "cell_type": "code",
      "source": [
        "optimize(num_iterations=9900)\n",
        "print_test_accuracy(True, True)"
      ],
      "execution_count": 24,
      "outputs": [
        {
          "output_type": "stream",
          "text": [
            "Optimization Iteration: 1001, Training Accuracy: 0.9375\n",
            "Optimization Iteration: 1101, Training Accuracy: 0.921875\n",
            "Optimization Iteration: 1201, Training Accuracy: 0.90625\n",
            "Optimization Iteration: 1301, Training Accuracy: 0.9375\n",
            "Optimization Iteration: 1401, Training Accuracy: 0.953125\n",
            "Optimization Iteration: 1501, Training Accuracy: 0.90625\n",
            "Optimization Iteration: 1601, Training Accuracy: 0.921875\n",
            "Optimization Iteration: 1701, Training Accuracy: 0.921875\n",
            "Optimization Iteration: 1801, Training Accuracy: 0.953125\n",
            "Optimization Iteration: 1901, Training Accuracy: 0.96875\n",
            "Optimization Iteration: 2001, Training Accuracy: 0.984375\n",
            "Optimization Iteration: 2101, Training Accuracy: 0.984375\n",
            "Optimization Iteration: 2201, Training Accuracy: 1.0\n",
            "Optimization Iteration: 2301, Training Accuracy: 0.921875\n",
            "Optimization Iteration: 2401, Training Accuracy: 0.9375\n",
            "Optimization Iteration: 2501, Training Accuracy: 0.96875\n",
            "Optimization Iteration: 2601, Training Accuracy: 0.96875\n",
            "Optimization Iteration: 2701, Training Accuracy: 0.984375\n",
            "Optimization Iteration: 2801, Training Accuracy: 0.96875\n",
            "Optimization Iteration: 2901, Training Accuracy: 0.96875\n",
            "Optimization Iteration: 3001, Training Accuracy: 0.984375\n",
            "Optimization Iteration: 3101, Training Accuracy: 0.96875\n",
            "Optimization Iteration: 3201, Training Accuracy: 0.984375\n",
            "Optimization Iteration: 3301, Training Accuracy: 1.0\n",
            "Optimization Iteration: 3401, Training Accuracy: 0.921875\n",
            "Optimization Iteration: 3501, Training Accuracy: 0.96875\n",
            "Optimization Iteration: 3601, Training Accuracy: 0.984375\n",
            "Optimization Iteration: 3701, Training Accuracy: 0.96875\n",
            "Optimization Iteration: 3801, Training Accuracy: 0.96875\n",
            "Optimization Iteration: 3901, Training Accuracy: 0.953125\n",
            "Optimization Iteration: 4001, Training Accuracy: 0.984375\n",
            "Optimization Iteration: 4101, Training Accuracy: 0.984375\n",
            "Optimization Iteration: 4201, Training Accuracy: 0.96875\n",
            "Optimization Iteration: 4301, Training Accuracy: 0.984375\n",
            "Optimization Iteration: 4401, Training Accuracy: 1.0\n",
            "Optimization Iteration: 4501, Training Accuracy: 1.0\n",
            "Optimization Iteration: 4601, Training Accuracy: 0.9375\n",
            "Optimization Iteration: 4701, Training Accuracy: 1.0\n",
            "Optimization Iteration: 4801, Training Accuracy: 0.984375\n",
            "Optimization Iteration: 4901, Training Accuracy: 0.953125\n",
            "Optimization Iteration: 5001, Training Accuracy: 1.0\n",
            "Optimization Iteration: 5101, Training Accuracy: 0.984375\n",
            "Optimization Iteration: 5201, Training Accuracy: 1.0\n",
            "Optimization Iteration: 5301, Training Accuracy: 0.96875\n",
            "Optimization Iteration: 5401, Training Accuracy: 1.0\n",
            "Optimization Iteration: 5501, Training Accuracy: 0.984375\n",
            "Optimization Iteration: 5601, Training Accuracy: 0.984375\n",
            "Optimization Iteration: 5701, Training Accuracy: 1.0\n",
            "Optimization Iteration: 5801, Training Accuracy: 1.0\n",
            "Optimization Iteration: 5901, Training Accuracy: 1.0\n",
            "Optimization Iteration: 6001, Training Accuracy: 0.96875\n",
            "Optimization Iteration: 6101, Training Accuracy: 1.0\n",
            "Optimization Iteration: 6201, Training Accuracy: 0.984375\n",
            "Optimization Iteration: 6301, Training Accuracy: 1.0\n",
            "Optimization Iteration: 6401, Training Accuracy: 0.96875\n",
            "Optimization Iteration: 6501, Training Accuracy: 1.0\n",
            "Optimization Iteration: 6601, Training Accuracy: 0.984375\n",
            "Optimization Iteration: 6701, Training Accuracy: 0.953125\n"
          ],
          "name": "stdout"
        },
        {
          "output_type": "stream",
          "text": [
            "Optimization Iteration: 6801, Training Accuracy: 0.96875\n",
            "Optimization Iteration: 6901, Training Accuracy: 0.984375\n",
            "Optimization Iteration: 7001, Training Accuracy: 0.96875\n",
            "Optimization Iteration: 7101, Training Accuracy: 0.984375\n",
            "Optimization Iteration: 7201, Training Accuracy: 1.0\n",
            "Optimization Iteration: 7301, Training Accuracy: 0.984375\n",
            "Optimization Iteration: 7401, Training Accuracy: 1.0\n",
            "Optimization Iteration: 7501, Training Accuracy: 0.96875\n",
            "Optimization Iteration: 7601, Training Accuracy: 0.984375\n",
            "Optimization Iteration: 7701, Training Accuracy: 0.96875\n",
            "Optimization Iteration: 7801, Training Accuracy: 0.96875\n",
            "Optimization Iteration: 7901, Training Accuracy: 0.96875\n",
            "Optimization Iteration: 8001, Training Accuracy: 1.0\n",
            "Optimization Iteration: 8101, Training Accuracy: 1.0\n",
            "Optimization Iteration: 8201, Training Accuracy: 0.984375\n",
            "Optimization Iteration: 8301, Training Accuracy: 1.0\n",
            "Optimization Iteration: 8401, Training Accuracy: 1.0\n",
            "Optimization Iteration: 8501, Training Accuracy: 0.984375\n",
            "Optimization Iteration: 8601, Training Accuracy: 0.984375\n",
            "Optimization Iteration: 8701, Training Accuracy: 0.96875\n",
            "Optimization Iteration: 8801, Training Accuracy: 0.96875\n",
            "Optimization Iteration: 8901, Training Accuracy: 0.984375\n",
            "Optimization Iteration: 9001, Training Accuracy: 1.0\n",
            "Optimization Iteration: 9101, Training Accuracy: 0.984375\n",
            "Optimization Iteration: 9201, Training Accuracy: 1.0\n",
            "Optimization Iteration: 9301, Training Accuracy: 0.96875\n",
            "Optimization Iteration: 9401, Training Accuracy: 1.0\n",
            "Optimization Iteration: 9501, Training Accuracy: 1.0\n",
            "Optimization Iteration: 9601, Training Accuracy: 1.0\n",
            "Optimization Iteration: 9701, Training Accuracy: 1.0\n",
            "Optimization Iteration: 9801, Training Accuracy: 0.984375\n",
            "Optimization Iteration: 9901, Training Accuracy: 0.984375\n",
            "Optimization Iteration: 10001, Training Accuracy: 1.0\n",
            "Optimization Iteration: 10101, Training Accuracy: 0.96875\n",
            "Optimization Iteration: 10201, Training Accuracy: 1.0\n",
            "Optimization Iteration: 10301, Training Accuracy: 0.984375\n",
            "Optimization Iteration: 10401, Training Accuracy: 1.0\n",
            "Optimization Iteration: 10501, Training Accuracy: 0.984375\n",
            "Optimization Iteration: 10601, Training Accuracy: 0.953125\n",
            "Optimization Iteration: 10701, Training Accuracy: 1.0\n",
            "Optimization Iteration: 10801, Training Accuracy: 1.0\n",
            "Time usage: 0:00:51\n",
            "Accuracy on Test-Set: 98.9% (9891 / 10000)\n",
            "Example errors:\n"
          ],
          "name": "stdout"
        },
        {
          "output_type": "display_data",
          "data": {
            "image/png": "[encoded data removed]",
            "text/plain": [
              "<matplotlib.figure.Figure at 0x7ff59633ae90>"
            ]
          },
          "metadata": {
            "tags": []
          }
        },
        {
          "output_type": "stream",
          "text": [
            "Confusion Matrix:\n"
          ],
          "name": "stdout"
        },
        {
          "output_type": "display_data",
          "data": {
            "image/png": "[encoded data removed]",
            "text/plain": [
              "<matplotlib.figure.Figure at 0x7ff5905c53d0>"
            ]
          },
          "metadata": {
            "tags": []
          }
        }
      ]
    }
  ]
}